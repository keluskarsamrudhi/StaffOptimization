{
  "nbformat": 4,
  "nbformat_minor": 0,
  "metadata": {
    "kernelspec": {
      "display_name": "Python 3",
      "language": "python",
      "name": "python3"
    },
    "language_info": {
      "codemirror_mode": {
        "name": "ipython",
        "version": 3
      },
      "file_extension": ".py",
      "mimetype": "text/x-python",
      "name": "python",
      "nbconvert_exporter": "python",
      "pygments_lexer": "ipython3",
      "version": "3.7.4"
    },
    "colab": {
      "name": "Staff_Optimization.ipynb",
      "provenance": [],
      "collapsed_sections": [
        "MESqIOoqg-uN"
      ]
    }
  },
  "cells": [
    {
      "cell_type": "code",
      "metadata": {
        "colab": {
          "base_uri": "https://localhost:8080/"
        },
        "id": "vEdgH47ejZRY",
        "outputId": "0a0a2ee5-6888-4743-99ae-e0e3376f7295"
      },
      "source": [
        "from google.colab import drive\r\n",
        "drive.mount('/content/drive/')\r\n",
        "%cd /content/drive/My Drive/Colab Notebooks/data/upgrad/SEM4/Optimization_CaseStudy/"
      ],
      "execution_count": null,
      "outputs": [
        {
          "output_type": "stream",
          "text": [
            "Mounted at /content/drive/\n",
            "/content/drive/My Drive/Colab Notebooks/data/upgrad/SEM4/Optimization_CaseStudy\n"
          ],
          "name": "stdout"
        }
      ]
    },
    {
      "cell_type": "code",
      "metadata": {
        "colab": {
          "base_uri": "https://localhost:8080/"
        },
        "id": "w09TRncog-t1",
        "outputId": "e169a858-c006-4aac-84db-e2fc58f6d323"
      },
      "source": [
        "# Importing Libraries \n",
        "\n",
        "!pip install pyomo\n",
        "!apt-get install -y -qq glpk-utils coinor-cbc\n",
        "\n",
        "import pandas as pd\n",
        "import numpy as np\n",
        "import math\n",
        "\n",
        "from pyomo.environ import *\n",
        "from __future__ import division\n",
        "from pyomo.opt import SolverFactory\n",
        "from openpyxl import load_workbook"
      ],
      "execution_count": null,
      "outputs": [
        {
          "output_type": "stream",
          "text": [
            "Collecting pyomo\n",
            "\u001b[?25l  Downloading https://files.pythonhosted.org/packages/f5/3d/17250365ad9c1dd19389a260871b66fbd1ba18df3bf74ed25eef07e1a8cc/Pyomo-5.7.3-cp36-cp36m-manylinux2010_x86_64.whl (9.5MB)\n",
            "\u001b[K     |████████████████████████████████| 9.5MB 6.0MB/s \n",
            "\u001b[?25hRequirement already satisfied: six>=1.4 in /usr/local/lib/python3.6/dist-packages (from pyomo) (1.15.0)\n",
            "Collecting PyUtilib>=6.0.0\n",
            "\u001b[?25l  Downloading https://files.pythonhosted.org/packages/e1/e7/c3e5994b4e5c90280b5c14ffef409875ec5436d1d0d9f8585794993a7d77/PyUtilib-6.0.0-py2.py3-none-any.whl (254kB)\n",
            "\u001b[K     |████████████████████████████████| 256kB 55.9MB/s \n",
            "\u001b[?25hCollecting ply\n",
            "\u001b[?25l  Downloading https://files.pythonhosted.org/packages/a3/58/35da89ee790598a0700ea49b2a66594140f44dec458c07e8e3d4979137fc/ply-3.11-py2.py3-none-any.whl (49kB)\n",
            "\u001b[K     |████████████████████████████████| 51kB 5.4MB/s \n",
            "\u001b[?25hCollecting nose\n",
            "\u001b[?25l  Downloading https://files.pythonhosted.org/packages/15/d8/dd071918c040f50fa1cf80da16423af51ff8ce4a0f2399b7bf8de45ac3d9/nose-1.3.7-py3-none-any.whl (154kB)\n",
            "\u001b[K     |████████████████████████████████| 163kB 49.1MB/s \n",
            "\u001b[?25hInstalling collected packages: nose, PyUtilib, ply, pyomo\n",
            "Successfully installed PyUtilib-6.0.0 nose-1.3.7 ply-3.11 pyomo-5.7.3\n",
            "Selecting previously unselected package libsuitesparseconfig5:amd64.\n",
            "(Reading database ... 146442 files and directories currently installed.)\n",
            "Preparing to unpack .../00-libsuitesparseconfig5_1%3a5.1.2-2_amd64.deb ...\n",
            "Unpacking libsuitesparseconfig5:amd64 (1:5.1.2-2) ...\n",
            "Selecting previously unselected package libamd2:amd64.\n",
            "Preparing to unpack .../01-libamd2_1%3a5.1.2-2_amd64.deb ...\n",
            "Unpacking libamd2:amd64 (1:5.1.2-2) ...\n",
            "Selecting previously unselected package libcolamd2:amd64.\n",
            "Preparing to unpack .../02-libcolamd2_1%3a5.1.2-2_amd64.deb ...\n",
            "Unpacking libcolamd2:amd64 (1:5.1.2-2) ...\n",
            "Selecting previously unselected package libglpk40:amd64.\n",
            "Preparing to unpack .../03-libglpk40_4.65-1_amd64.deb ...\n",
            "Unpacking libglpk40:amd64 (4.65-1) ...\n",
            "Selecting previously unselected package glpk-utils.\n",
            "Preparing to unpack .../04-glpk-utils_4.65-1_amd64.deb ...\n",
            "Unpacking glpk-utils (4.65-1) ...\n",
            "Selecting previously unselected package coinor-libcoinutils3v5.\n",
            "Preparing to unpack .../05-coinor-libcoinutils3v5_2.10.14+repack1-1_amd64.deb ...\n",
            "Unpacking coinor-libcoinutils3v5 (2.10.14+repack1-1) ...\n",
            "Selecting previously unselected package coinor-libosi1v5.\n",
            "Preparing to unpack .../06-coinor-libosi1v5_0.107.9+repack1-1_amd64.deb ...\n",
            "Unpacking coinor-libosi1v5 (0.107.9+repack1-1) ...\n",
            "Selecting previously unselected package coinor-libclp1.\n",
            "Preparing to unpack .../07-coinor-libclp1_1.16.11+repack1-1_amd64.deb ...\n",
            "Unpacking coinor-libclp1 (1.16.11+repack1-1) ...\n",
            "Selecting previously unselected package coinor-libcgl1.\n",
            "Preparing to unpack .../08-coinor-libcgl1_0.59.10+repack1-1_amd64.deb ...\n",
            "Unpacking coinor-libcgl1 (0.59.10+repack1-1) ...\n",
            "Selecting previously unselected package coinor-libcbc3.\n",
            "Preparing to unpack .../09-coinor-libcbc3_2.9.9+repack1-1_amd64.deb ...\n",
            "Unpacking coinor-libcbc3 (2.9.9+repack1-1) ...\n",
            "Selecting previously unselected package coinor-cbc.\n",
            "Preparing to unpack .../10-coinor-cbc_2.9.9+repack1-1_amd64.deb ...\n",
            "Unpacking coinor-cbc (2.9.9+repack1-1) ...\n",
            "Setting up libsuitesparseconfig5:amd64 (1:5.1.2-2) ...\n",
            "Setting up libcolamd2:amd64 (1:5.1.2-2) ...\n",
            "Setting up coinor-libcoinutils3v5 (2.10.14+repack1-1) ...\n",
            "Setting up coinor-libosi1v5 (0.107.9+repack1-1) ...\n",
            "Setting up coinor-libclp1 (1.16.11+repack1-1) ...\n",
            "Setting up libamd2:amd64 (1:5.1.2-2) ...\n",
            "Setting up coinor-libcgl1 (0.59.10+repack1-1) ...\n",
            "Setting up libglpk40:amd64 (4.65-1) ...\n",
            "Setting up coinor-libcbc3 (2.9.9+repack1-1) ...\n",
            "Setting up glpk-utils (4.65-1) ...\n",
            "Setting up coinor-cbc (2.9.9+repack1-1) ...\n",
            "Processing triggers for man-db (2.8.3-2ubuntu0.1) ...\n",
            "Processing triggers for libc-bin (2.27-3ubuntu1.3) ...\n",
            "/sbin/ldconfig.real: /usr/local/lib/python3.6/dist-packages/ideep4py/lib/libmkldnn.so.0 is not a symbolic link\n",
            "\n"
          ],
          "name": "stdout"
        }
      ]
    },
    {
      "cell_type": "code",
      "metadata": {
        "id": "BdeUnYlyg-uF"
      },
      "source": [
        "# Reading the data from Excel workbook\n",
        "InputData = \"Staffing+Data.xlsx\"\n",
        "\n",
        "demand = pd.read_excel(InputData,sheet_name='DemandData')\n",
        "StaffAvailability = pd.read_excel(InputData,sheet_name='StaffAvailability')\n",
        "Cost = pd.read_excel(InputData,sheet_name='Cost')\n",
        "Service_rate = pd.read_excel(InputData,sheet_name='ServiceRate')\n",
        "\n",
        "# Calculating monthly salary\n",
        "Cost['MonthlySalary'] = Cost['AnnualSalary']/12"
      ],
      "execution_count": null,
      "outputs": []
    },
    {
      "cell_type": "markdown",
      "metadata": {
        "id": "ysZCLjZJg-uF"
      },
      "source": [
        "## Data pre-processing "
      ]
    },
    {
      "cell_type": "code",
      "metadata": {
        "id": "DXufbAtkg-uG",
        "colab": {
          "base_uri": "https://localhost:8080/"
        },
        "outputId": "95f68417-0064-42c6-a708-4de4e9eb8924"
      },
      "source": [
        "# Creating the required Python data structures for indexes and parameters\n",
        "\n",
        "demand_state_month = demand.set_index(['State', 'Month'])['Demand'].to_dict()\n",
        "\n",
        "Avg_availability = StaffAvailability.set_index(['State', 'Month'])['StaffAvPer'].to_dict()\n",
        "\n",
        "LB_availability = StaffAvailability.set_index(['State', 'Month'])['LB'].to_dict()\n",
        "\n",
        "UB_availability = StaffAvailability.set_index(['State', 'Month'])['UB'].to_dict()\n",
        "\n",
        "AnnualSalary = Cost.set_index(['State'])['AnnualSalary'].to_dict()\n",
        "\n",
        "MonthlySalary = Cost.set_index(['State'])['MonthlySalary'].to_dict()\n",
        "\n",
        "UnitOutSourceCost = Cost.set_index(['State', 'Month'])['UnitOutSourceCost'].to_dict()\n",
        "\n",
        "app_processed_by_staff = Service_rate.iloc[0,0] #number of applications processed by staff when the availability is 100%\n",
        "\n",
        "print(\"Number of applications processed by staff when the availability is 100%:\",app_processed_by_staff)"
      ],
      "execution_count": null,
      "outputs": [
        {
          "output_type": "stream",
          "text": [
            "Number of applications processed by staff when the availability is 100%: 40\n"
          ],
          "name": "stdout"
        }
      ]
    },
    {
      "cell_type": "markdown",
      "metadata": {
        "id": "5_INxBc_g-uG"
      },
      "source": [
        "# Question 1\n",
        "\n",
        "The company wants to know the optimised staffing recommendations for the business case described. \n",
        "Write the mathematical model for the deterministic optimisation problem. Define and explain your decision variables, objective function and the constraint. (Hint: Use months of the year as the model timeline).\n",
        "\n"
      ]
    },
    {
      "cell_type": "markdown",
      "metadata": {
        "id": "vZbSB6xCg-uH"
      },
      "source": [
        "**Note:** You can write the mathematical formulation directly in your report."
      ]
    },
    {
      "cell_type": "markdown",
      "metadata": {
        "id": "nJb3t8gDg-uI"
      },
      "source": [
        "# Question 2\n",
        "\n",
        "Code the problem is Python and use any optimization package to solve it. Add comments to your code to explain each step. "
      ]
    },
    {
      "cell_type": "markdown",
      "metadata": {
        "id": "zaXaHG51g-uI"
      },
      "source": [
        "#### Expected output:\n",
        "\n",
        "Create a data frame containing the number of outsourced applications  and the number of FTEs for each state-month combination. You can choose to have extra columns like staff availability, demand etc. in your dataframe apart from the ones mentioned earlier. "
      ]
    },
    {
      "cell_type": "code",
      "metadata": {
        "id": "CzY8yVVUg-uJ"
      },
      "source": [
        "# Creating a model instance\n",
        "model = ConcreteModel()"
      ],
      "execution_count": null,
      "outputs": []
    },
    {
      "cell_type": "code",
      "metadata": {
        "id": "c5T0o329Qc-g"
      },
      "source": [
        "# Extracting the unique values of State and Month which will act as indexes for\r\n",
        "#the decision variables and the parameters\r\n",
        "\r\n",
        "State=demand['State'].unique()\r\n",
        "Month=demand['Month'].unique()"
      ],
      "execution_count": null,
      "outputs": []
    },
    {
      "cell_type": "code",
      "metadata": {
        "id": "h0O_QN3Kg-uJ"
      },
      "source": [
        "# Define Pyomo sets and Parameters\n",
        "model.State = Set(initialize = State.tolist(), doc = \"State\" )\n",
        "model.Month = Set(initialize = Month.tolist(), doc = \"Month\" )\n",
        "\n",
        "model.demand_state_month = Param(model.State, model.Month, initialize= demand_state_month, doc= \"Demand for each State per Month\")\n",
        "model.Avg_availability = Param(model.State, model.Month, initialize= Avg_availability, doc= \"Avg Availability of Internal Staff\")\n",
        "model.LB_availability = Param(model.State, model.Month, initialize= LB_availability, doc= \"Worst Case Availability\")\n",
        "model.UB_availability = Param(model.State, model.Month, initialize= UB_availability, doc= \"Best Case Availability\")\n",
        "model.MonthlySalary = Param(model.State, initialize= MonthlySalary, doc= \"Monthly Salary\")\n",
        "model.UnitOutSourceCost = Param(model.State, model.Month, initialize= UnitOutSourceCost, doc= \"Outsourcing Cost per Application\")"
      ],
      "execution_count": null,
      "outputs": []
    },
    {
      "cell_type": "code",
      "metadata": {
        "id": "X8RmJkqrg-uK"
      },
      "source": [
        "# Decision variables\n",
        "\n",
        "# Decision variable for internal staff members (Count of internal staff members)\n",
        "model.x = Var(model.State, model.Month, within=NonNegativeReals, doc= \"Number of Internal Staff\") \n",
        "\n",
        "# Decision variable for outsourced vendors (Number of applications processed by outsourced vendors)\n",
        "model.y = Var(model.State, model.Month, within=NonNegativeIntegers, doc = \"Number of Applications Outsourced to Vendors\")"
      ],
      "execution_count": null,
      "outputs": []
    },
    {
      "cell_type": "code",
      "metadata": {
        "id": "fu136874J7Hc"
      },
      "source": [
        "# Constraints\r\n",
        "\r\n",
        "# Maximum percentage of applications that can be processed by vendors in different states\r\n",
        "max_ratio = {'A':0.3, 'B':0.4, 'C':1}\r\n",
        "\r\n",
        "def max_applications_func(model,s,m):\r\n",
        "  return model.y[s,m] <= max_ratio[s]*model.demand_state_month[s,m]\r\n",
        "\r\n",
        "model.max_applications = Constraint(model.State, model.Month, rule=max_applications_func)\r\n",
        "\r\n",
        "# For each month with respect to its State, the sum of total applications processed by vendors and total applications \r\n",
        "# processed by the internal staff should be equal to the total number of applications\r\n",
        "\r\n",
        "def total_applications_func(model,s,m):\r\n",
        "  return model.demand_state_month[s,m] == model.Avg_availability[s,m]*app_processed_by_staff*model.x[s,m] + model.y[s,m]\r\n",
        "\r\n",
        "model.total_applications = Constraint(model.State,model.Month,rule=total_applications_func)"
      ],
      "execution_count": null,
      "outputs": []
    },
    {
      "cell_type": "code",
      "metadata": {
        "id": "IuiwHsUJg-uK"
      },
      "source": [
        "# Objective function\n",
        "\n",
        "def obj_rule(model):\n",
        "  total_staff_cost = sum(model.MonthlySalary[s]*model.x[s,m] for s in model.State for m in model.Month)\n",
        "  total_vendor_cost = sum(model.UnitOutSourceCost[s,m]*model.y[s,m] for s in model.State for m in model.Month)\n",
        "  return total_staff_cost + total_vendor_cost\n",
        "\n",
        "model.objvalue = Objective(rule=obj_rule, sense=minimize)"
      ],
      "execution_count": null,
      "outputs": []
    },
    {
      "cell_type": "code",
      "metadata": {
        "colab": {
          "base_uri": "https://localhost:8080/"
        },
        "id": "RJ1M3ylWg-uL",
        "outputId": "8e688398-7b2f-49da-8079-b0bf755dbafc"
      },
      "source": [
        "# Invoking the solver\n",
        "result = SolverFactory('glpk', executable='/usr/bin/glpsol').solve(model)\n",
        "result.write()"
      ],
      "execution_count": null,
      "outputs": [
        {
          "output_type": "stream",
          "text": [
            "# ==========================================================\n",
            "# = Solver Results                                         =\n",
            "# ==========================================================\n",
            "# ----------------------------------------------------------\n",
            "#   Problem Information\n",
            "# ----------------------------------------------------------\n",
            "Problem: \n",
            "- Name: unknown\n",
            "  Lower bound: 17962336.4487699\n",
            "  Upper bound: 17962336.4487699\n",
            "  Number of objectives: 1\n",
            "  Number of constraints: 73\n",
            "  Number of variables: 73\n",
            "  Number of nonzeros: 109\n",
            "  Sense: minimize\n",
            "# ----------------------------------------------------------\n",
            "#   Solver Information\n",
            "# ----------------------------------------------------------\n",
            "Solver: \n",
            "- Status: ok\n",
            "  Termination condition: optimal\n",
            "  Statistics: \n",
            "    Branch and bound: \n",
            "      Number of bounded subproblems: 0\n",
            "      Number of created subproblems: 0\n",
            "  Error rc: 0\n",
            "  Time: 0.015135765075683594\n",
            "# ----------------------------------------------------------\n",
            "#   Solution Information\n",
            "# ----------------------------------------------------------\n",
            "Solution: \n",
            "- number of solutions: 0\n",
            "  number of solutions displayed: 0\n"
          ],
          "name": "stdout"
        }
      ]
    },
    {
      "cell_type": "code",
      "metadata": {
        "colab": {
          "base_uri": "https://localhost:8080/"
        },
        "id": "LgXJvAS2sXro",
        "outputId": "6949c558-d4e1-4eb2-a5b5-547cb464772c"
      },
      "source": [
        "# Print the value of the objective function\r\n",
        "round(model.objvalue(),2)"
      ],
      "execution_count": null,
      "outputs": [
        {
          "output_type": "execute_result",
          "data": {
            "text/plain": [
              "17962336.45"
            ]
          },
          "metadata": {
            "tags": []
          },
          "execution_count": 64
        }
      ]
    },
    {
      "cell_type": "markdown",
      "metadata": {
        "id": "DZzOg7VFg-uL"
      },
      "source": [
        "**`Checkpoint 1:`** Seems like the company has to spend around 17.9 m$ in total for the application approval process."
      ]
    },
    {
      "cell_type": "code",
      "metadata": {
        "id": "4Tej5rv1g-uM",
        "colab": {
          "base_uri": "https://localhost:8080/",
          "height": 359
        },
        "outputId": "8b188474-f0e8-4b58-ce18-11aa76145dad"
      },
      "source": [
        "# Creating dataframe for the results\n",
        "\n",
        "#Creating an empty list\n",
        "Output = []\n",
        "\n",
        "for s in model.State:\n",
        "  for m in model.Month:\n",
        "\n",
        "    # Number of staff members for each State and Month\n",
        "    staff_count = round(model.x[s,m].value,2)\n",
        "\n",
        "    # Number of applications processed by staff\n",
        "    num_app_staff = round(model.Avg_availability[s,m]*40,2)*model.x[s,m].value\n",
        "\n",
        "    # Number of applications processed by outsourcing\n",
        "    num_app_outsourced = model.y[s,m].value\n",
        "\n",
        "    # total applications\n",
        "    total_applications = model.demand_state_month[s,m]\n",
        "\n",
        "    # Staff estimated cost\n",
        "    staff_cost = round(model.x[s,m].value*model.MonthlySalary[s],2)\n",
        "\n",
        "    # Outsourced estimated cost\n",
        "    outsourcing_cost = round(model.y[s,m].value*model.UnitOutSourceCost[s,m],2)\n",
        "\n",
        "    # Total cost\n",
        "    total_cost = round(model.x[s,m].value*model.MonthlySalary[s] + model.y[s,m].value*model.UnitOutSourceCost[s,m],2)\n",
        "\n",
        "    Output.append([s, m, staff_count,num_app_staff,num_app_outsourced, total_applications, staff_cost, outsourcing_cost, total_cost])\n",
        "\n",
        "Output = pd.DataFrame(Output,columns=['State', 'Month', 'staff_count','num_app_staff','num_app_outsourced', 'total_applications', 'staff_cost', 'outsourcing_cost', 'total_cost'])\n",
        "Output.head(10)"
      ],
      "execution_count": null,
      "outputs": [
        {
          "output_type": "execute_result",
          "data": {
            "text/html": [
              "<div>\n",
              "<style scoped>\n",
              "    .dataframe tbody tr th:only-of-type {\n",
              "        vertical-align: middle;\n",
              "    }\n",
              "\n",
              "    .dataframe tbody tr th {\n",
              "        vertical-align: top;\n",
              "    }\n",
              "\n",
              "    .dataframe thead th {\n",
              "        text-align: right;\n",
              "    }\n",
              "</style>\n",
              "<table border=\"1\" class=\"dataframe\">\n",
              "  <thead>\n",
              "    <tr style=\"text-align: right;\">\n",
              "      <th></th>\n",
              "      <th>State</th>\n",
              "      <th>Month</th>\n",
              "      <th>staff_count</th>\n",
              "      <th>num_app_staff</th>\n",
              "      <th>num_app_outsourced</th>\n",
              "      <th>total_applications</th>\n",
              "      <th>staff_cost</th>\n",
              "      <th>outsourcing_cost</th>\n",
              "      <th>total_cost</th>\n",
              "    </tr>\n",
              "  </thead>\n",
              "  <tbody>\n",
              "    <tr>\n",
              "      <th>0</th>\n",
              "      <td>A</td>\n",
              "      <td>Jan</td>\n",
              "      <td>161.73</td>\n",
              "      <td>5240.0</td>\n",
              "      <td>0.0</td>\n",
              "      <td>5240</td>\n",
              "      <td>808641.98</td>\n",
              "      <td>0.0</td>\n",
              "      <td>808641.98</td>\n",
              "    </tr>\n",
              "    <tr>\n",
              "      <th>1</th>\n",
              "      <td>A</td>\n",
              "      <td>Feb</td>\n",
              "      <td>160.46</td>\n",
              "      <td>4878.0</td>\n",
              "      <td>0.0</td>\n",
              "      <td>4878</td>\n",
              "      <td>802302.63</td>\n",
              "      <td>0.0</td>\n",
              "      <td>802302.63</td>\n",
              "    </tr>\n",
              "    <tr>\n",
              "      <th>2</th>\n",
              "      <td>A</td>\n",
              "      <td>Mar</td>\n",
              "      <td>198.07</td>\n",
              "      <td>5942.0</td>\n",
              "      <td>0.0</td>\n",
              "      <td>5942</td>\n",
              "      <td>990333.33</td>\n",
              "      <td>0.0</td>\n",
              "      <td>990333.33</td>\n",
              "    </tr>\n",
              "    <tr>\n",
              "      <th>3</th>\n",
              "      <td>A</td>\n",
              "      <td>Apr</td>\n",
              "      <td>71.78</td>\n",
              "      <td>2297.0</td>\n",
              "      <td>0.0</td>\n",
              "      <td>2297</td>\n",
              "      <td>358906.25</td>\n",
              "      <td>0.0</td>\n",
              "      <td>358906.25</td>\n",
              "    </tr>\n",
              "    <tr>\n",
              "      <th>4</th>\n",
              "      <td>A</td>\n",
              "      <td>May</td>\n",
              "      <td>63.85</td>\n",
              "      <td>1992.0</td>\n",
              "      <td>0.0</td>\n",
              "      <td>1992</td>\n",
              "      <td>319230.77</td>\n",
              "      <td>0.0</td>\n",
              "      <td>319230.77</td>\n",
              "    </tr>\n",
              "    <tr>\n",
              "      <th>5</th>\n",
              "      <td>A</td>\n",
              "      <td>Jun</td>\n",
              "      <td>77.91</td>\n",
              "      <td>2275.0</td>\n",
              "      <td>0.0</td>\n",
              "      <td>2275</td>\n",
              "      <td>389554.79</td>\n",
              "      <td>0.0</td>\n",
              "      <td>389554.79</td>\n",
              "    </tr>\n",
              "    <tr>\n",
              "      <th>6</th>\n",
              "      <td>A</td>\n",
              "      <td>Jul</td>\n",
              "      <td>137.28</td>\n",
              "      <td>3734.0</td>\n",
              "      <td>1600.0</td>\n",
              "      <td>5334</td>\n",
              "      <td>686397.06</td>\n",
              "      <td>288000.0</td>\n",
              "      <td>974397.06</td>\n",
              "    </tr>\n",
              "    <tr>\n",
              "      <th>7</th>\n",
              "      <td>A</td>\n",
              "      <td>Aug</td>\n",
              "      <td>110.89</td>\n",
              "      <td>3371.0</td>\n",
              "      <td>0.0</td>\n",
              "      <td>3371</td>\n",
              "      <td>554440.79</td>\n",
              "      <td>0.0</td>\n",
              "      <td>554440.79</td>\n",
              "    </tr>\n",
              "    <tr>\n",
              "      <th>8</th>\n",
              "      <td>A</td>\n",
              "      <td>Sep</td>\n",
              "      <td>116.02</td>\n",
              "      <td>3759.0</td>\n",
              "      <td>0.0</td>\n",
              "      <td>3759</td>\n",
              "      <td>580092.59</td>\n",
              "      <td>0.0</td>\n",
              "      <td>580092.59</td>\n",
              "    </tr>\n",
              "    <tr>\n",
              "      <th>9</th>\n",
              "      <td>A</td>\n",
              "      <td>Oct</td>\n",
              "      <td>120.86</td>\n",
              "      <td>3529.0</td>\n",
              "      <td>0.0</td>\n",
              "      <td>3529</td>\n",
              "      <td>604280.82</td>\n",
              "      <td>0.0</td>\n",
              "      <td>604280.82</td>\n",
              "    </tr>\n",
              "  </tbody>\n",
              "</table>\n",
              "</div>"
            ],
            "text/plain": [
              "  State Month  staff_count  ...  staff_cost  outsourcing_cost  total_cost\n",
              "0     A   Jan       161.73  ...   808641.98               0.0   808641.98\n",
              "1     A   Feb       160.46  ...   802302.63               0.0   802302.63\n",
              "2     A   Mar       198.07  ...   990333.33               0.0   990333.33\n",
              "3     A   Apr        71.78  ...   358906.25               0.0   358906.25\n",
              "4     A   May        63.85  ...   319230.77               0.0   319230.77\n",
              "5     A   Jun        77.91  ...   389554.79               0.0   389554.79\n",
              "6     A   Jul       137.28  ...   686397.06          288000.0   974397.06\n",
              "7     A   Aug       110.89  ...   554440.79               0.0   554440.79\n",
              "8     A   Sep       116.02  ...   580092.59               0.0   580092.59\n",
              "9     A   Oct       120.86  ...   604280.82               0.0   604280.82\n",
              "\n",
              "[10 rows x 9 columns]"
            ]
          },
          "metadata": {
            "tags": []
          },
          "execution_count": 65
        }
      ]
    },
    {
      "cell_type": "code",
      "metadata": {
        "colab": {
          "base_uri": "https://localhost:8080/"
        },
        "id": "E_lEuSGyroyj",
        "outputId": "abf2d405-f5f9-4e56-e406-d9fbd53fcd22"
      },
      "source": [
        "# Average cost per application\r\n",
        "\r\n",
        "round(Output['total_cost'].sum()/Output['total_applications'].sum(),2)"
      ],
      "execution_count": null,
      "outputs": [
        {
          "output_type": "execute_result",
          "data": {
            "text/plain": [
              "158.55"
            ]
          },
          "metadata": {
            "tags": []
          },
          "execution_count": 66
        }
      ]
    },
    {
      "cell_type": "markdown",
      "metadata": {
        "id": "o1X6Qaknrxv_"
      },
      "source": [
        "Overall average cost per application for the given scenario is $158.55\r\n"
      ]
    },
    {
      "cell_type": "code",
      "metadata": {
        "colab": {
          "base_uri": "https://localhost:8080/"
        },
        "id": "GgRVfZYOrsOm",
        "outputId": "606498f2-27b3-48e2-b12b-9684e1dde041"
      },
      "source": [
        "# Percentage of applications outsourced\r\n",
        "\r\n",
        "round(Output['num_app_outsourced'].sum()/Output['total_applications'].sum()*100,2)"
      ],
      "execution_count": null,
      "outputs": [
        {
          "output_type": "execute_result",
          "data": {
            "text/plain": [
              "18.31"
            ]
          },
          "metadata": {
            "tags": []
          },
          "execution_count": 67
        }
      ]
    },
    {
      "cell_type": "markdown",
      "metadata": {
        "id": "gdvkFj9Nr9Pj"
      },
      "source": [
        "Overall 18.31% of applications are outsourced for the given scenario"
      ]
    },
    {
      "cell_type": "code",
      "metadata": {
        "id": "nWrh4jSkg-uM",
        "colab": {
          "base_uri": "https://localhost:8080/"
        },
        "outputId": "db5144d1-3c80-4457-d552-9eadb2795d24"
      },
      "source": [
        "# Writing the results in to an Excel sheet\n",
        "\n",
        "book = load_workbook(\"Staffing+Data.xlsx\")\n",
        "\n",
        "# Creating excel writer object\n",
        "writer = pd.ExcelWriter(\"Staffing+Data.xlsx\", engine = 'openpyxl')\n",
        "\n",
        "# Assigning the workbook to the writer object\n",
        "writer.book = book\n",
        "\n",
        "# Writing dataframe to excel sheet named 'output'\n",
        "Output.to_excel(writer, sheet_name='Output')\n",
        "\n",
        "# Saving the excel file\n",
        "writer.save()\n",
        "print('DataFrame is written successfully to Excel Sheet.')"
      ],
      "execution_count": null,
      "outputs": [
        {
          "output_type": "stream",
          "text": [
            "DataFrame is written successfully to Excel Sheet.\n"
          ],
          "name": "stdout"
        }
      ]
    },
    {
      "cell_type": "markdown",
      "metadata": {
        "id": "JxyYAn6Ag-uM"
      },
      "source": [
        "# Question 3\n",
        "\n",
        "#### Worst-case and best-case analysis based on the staffs' availability.\n",
        "\n",
        "Assuming that the distribution is the same across all the states,\n",
        "\n",
        "#### 3.1 Worst case analysis \n",
        "\n",
        "- 3.1.1 What is the optimal number of staff members for the worst case? \n",
        "\n",
        "- 3.1.2 What is the percentage of outsourcing for the worst case? \n",
        "\n",
        "- 3.1.3 What is the average cost per application for the worst case?\n",
        "\n",
        "\n",
        "#### 3.2 Best case analysis \n",
        "\n",
        "- 3.2.1 What is the optimal number of staff members for the best case? \n",
        "\n",
        "- 3.2.2 What is the percentage of outsourcing for the best case? \n",
        "\n",
        "- 3.2.3 What is the average cost per application for the best case?\n"
      ]
    },
    {
      "cell_type": "markdown",
      "metadata": {
        "id": "MESqIOoqg-uN"
      },
      "source": [
        "#### Expected output:\n",
        "\n",
        "For each of the subtasks (3.1 and 3.2) create a data frame containing the number of outsourced applications and the number of FTEs for each state-month combination. You can choose to have extra columns like staff availability, demand etc. in your dataframe apart from the ones mentioned earlier. Also, print the overall average percentage of outsourced applications and the overall average cost per application. "
      ]
    },
    {
      "cell_type": "markdown",
      "metadata": {
        "id": "QBXd1apMg-uO"
      },
      "source": [
        "### 3.1 Worst Case Analysis "
      ]
    },
    {
      "cell_type": "markdown",
      "metadata": {
        "id": "UTGbaWIpg-uO"
      },
      "source": [
        "#### 3.1.1 Optimal number of staff members"
      ]
    },
    {
      "cell_type": "code",
      "metadata": {
        "id": "wx5Ouo1lg-uP"
      },
      "source": [
        "# Creating a model instance\n",
        "model_2 = ConcreteModel()"
      ],
      "execution_count": null,
      "outputs": []
    },
    {
      "cell_type": "code",
      "metadata": {
        "id": "CReBq2mUg-uP"
      },
      "source": [
        "# Define Pyomo sets and Parameters\n",
        "model_2.State = Set(initialize = State.tolist(), doc = \"State\" )\n",
        "model_2.Month = Set(initialize = Month.tolist(), doc = \"Month\" )\n",
        "\n",
        "model_2.demand_state_month = Param(model_2.State, model_2.Month, initialize= demand_state_month, doc= \"Demand for each State per Month\")\n",
        "model_2.Avg_availability = Param(model_2.State, model_2.Month, initialize= Avg_availability, doc= \"Avg Availability of Internal Staff\")\n",
        "model_2.LB_availability = Param(model_2.State, model_2.Month, initialize= LB_availability, doc= \"Worst Case Availability\")\n",
        "model_2.UB_availability = Param(model_2.State, model_2.Month, initialize= UB_availability, doc= \"Best Case Availability\")\n",
        "model_2.MonthlySalary = Param(model_2.State, initialize= MonthlySalary, doc= \"Monthly Salary\")\n",
        "model_2.UnitOutSourceCost = Param(model_2.State, model_2.Month, initialize= UnitOutSourceCost, doc= \"Outsourcing Cost per Application\")\n"
      ],
      "execution_count": null,
      "outputs": []
    },
    {
      "cell_type": "code",
      "metadata": {
        "id": "G9Dz9ydzYTjq"
      },
      "source": [
        "# Decision variables\r\n",
        "\r\n",
        "# Decision variable for internal staff members (Count of internal staff members)\r\n",
        "model_2.x = Var(model_2.State, model_2.Month, within=NonNegativeReals, doc= \"Number of staff members\") \r\n",
        "\r\n",
        "# Decision variable for outsourced vendors (Number of applications processed by  vendors)\r\n",
        "model_2.y = Var(model_2.State, model_2.Month, within=NonNegativeIntegers, doc = \"Number of Applications Outsourced to Vendors\")"
      ],
      "execution_count": null,
      "outputs": []
    },
    {
      "cell_type": "code",
      "metadata": {
        "id": "B8tzNYtJY6UB"
      },
      "source": [
        "# Constraints\r\n",
        "\r\n",
        "# Maximum percentage of applications that can be processed by vendors in different states\r\n",
        "max_ratio = {'A':0.3, 'B':0.4, 'C':1}\r\n",
        "\r\n",
        "def max_applications_func(model_2,s,m):\r\n",
        "  return model_2.y[s,m] <= max_ratio[s]*model_2.demand_state_month[s,m]\r\n",
        "\r\n",
        "model_2.max_applications = Constraint(model_2.State, model_2.Month, rule=max_applications_func)\r\n",
        "\r\n",
        "# For each month with respect to its State, the sum of total applications processed by vendors and total applications \r\n",
        "# processed by the internal staff should be equal to the total number of applications\r\n",
        "\r\n",
        "def total_applications_func(model_2,s,m):\r\n",
        "  return model_2.demand_state_month[s,m] == model_2.LB_availability[s,m]*app_processed_by_staff*model_2.x[s,m] + model_2.y[s,m]\r\n",
        "\r\n",
        "model_2.total_applications = Constraint(model_2.State,model_2.Month,rule=total_applications_func)"
      ],
      "execution_count": null,
      "outputs": []
    },
    {
      "cell_type": "code",
      "metadata": {
        "id": "9oL1xtbLaBoa"
      },
      "source": [
        "# Objective function\r\n",
        "\r\n",
        "def obj_rule(model_2):\r\n",
        "  total_staff_cost = sum(model_2.MonthlySalary[s]*model_2.x[s,m] for s in model_2.State for m in model_2.Month)\r\n",
        "  total_vendor_cost = sum(model_2.UnitOutSourceCost[s,m]*model_2.y[s,m] for s in model_2.State for m in model_2.Month)\r\n",
        "  return total_staff_cost + total_vendor_cost\r\n",
        "\r\n",
        "model_2.objvalue = Objective(rule=obj_rule, sense=minimize)"
      ],
      "execution_count": null,
      "outputs": []
    },
    {
      "cell_type": "code",
      "metadata": {
        "id": "qyWT_3y7g-uR",
        "colab": {
          "base_uri": "https://localhost:8080/"
        },
        "outputId": "b625d551-e901-4fe5-f6b6-c2bd63c896f0"
      },
      "source": [
        "# Invoking the solver\n",
        "result2 = SolverFactory('glpk', executable='/usr/bin/glpsol').solve(model_2)\n",
        "result2.write()"
      ],
      "execution_count": null,
      "outputs": [
        {
          "output_type": "stream",
          "text": [
            "# ==========================================================\n",
            "# = Solver Results                                         =\n",
            "# ==========================================================\n",
            "# ----------------------------------------------------------\n",
            "#   Problem Information\n",
            "# ----------------------------------------------------------\n",
            "Problem: \n",
            "- Name: unknown\n",
            "  Lower bound: 19599482.5167888\n",
            "  Upper bound: 19599482.5167888\n",
            "  Number of objectives: 1\n",
            "  Number of constraints: 73\n",
            "  Number of variables: 73\n",
            "  Number of nonzeros: 109\n",
            "  Sense: minimize\n",
            "# ----------------------------------------------------------\n",
            "#   Solver Information\n",
            "# ----------------------------------------------------------\n",
            "Solver: \n",
            "- Status: ok\n",
            "  Termination condition: optimal\n",
            "  Statistics: \n",
            "    Branch and bound: \n",
            "      Number of bounded subproblems: 0\n",
            "      Number of created subproblems: 0\n",
            "  Error rc: 0\n",
            "  Time: 0.014558792114257812\n",
            "# ----------------------------------------------------------\n",
            "#   Solution Information\n",
            "# ----------------------------------------------------------\n",
            "Solution: \n",
            "- number of solutions: 0\n",
            "  number of solutions displayed: 0\n"
          ],
          "name": "stdout"
        }
      ]
    },
    {
      "cell_type": "code",
      "metadata": {
        "id": "g46sJhgJg-uR",
        "colab": {
          "base_uri": "https://localhost:8080/"
        },
        "outputId": "0425506b-0d15-4199-d36d-e1c0f87865bf"
      },
      "source": [
        "# Print the value of the objective function\n",
        "round(model_2.objvalue(),2)"
      ],
      "execution_count": null,
      "outputs": [
        {
          "output_type": "execute_result",
          "data": {
            "text/plain": [
              "19599482.52"
            ]
          },
          "metadata": {
            "tags": []
          },
          "execution_count": 75
        }
      ]
    },
    {
      "cell_type": "markdown",
      "metadata": {
        "id": "jpnXxdwCg-uS"
      },
      "source": [
        "**`Checkpoint 2:`** The company has to spend around 19.6 m$ in total for the application approval process if the staffs are working with the minimum availability."
      ]
    },
    {
      "cell_type": "code",
      "metadata": {
        "id": "SbQ_tpdUg-uS",
        "colab": {
          "base_uri": "https://localhost:8080/",
          "height": 359
        },
        "outputId": "ee667ea9-4084-4841-af16-d063f6bf3fe6"
      },
      "source": [
        "# Creating dataframe for the results\n",
        "\n",
        "#Creating an empty list\n",
        "Output2 = []\n",
        "\n",
        "for s in model_2.State:\n",
        "  for m in model_2.Month:\n",
        "\n",
        "    # Number of staff members for each State and Month\n",
        "    staff_count = round(model_2.x[s,m].value,2)\n",
        "\n",
        "    # Number of applications processed by staff\n",
        "    num_app_staff = round(model_2.LB_availability[s,m]*app_processed_by_staff,2)*model_2.x[s,m].value\n",
        "\n",
        "    # Number of applications processed by outsourcing\n",
        "    num_app_outsourced = model_2.y[s,m].value\n",
        "\n",
        "    # total applications\n",
        "    total_applications = model_2.demand_state_month[s,m]\n",
        "\n",
        "    # Staff estimated cost\n",
        "    staff_cost = round(model_2.x[s,m].value*model_2.MonthlySalary[s],2)\n",
        "\n",
        "    # Outsourced estimated cost\n",
        "    outsourcing_cost = round(model_2.y[s,m].value*model_2.UnitOutSourceCost[s,m],2)\n",
        "\n",
        "    # Total cost\n",
        "    total_cost = round(model_2.x[s,m].value*model_2.MonthlySalary[s] + model_2.y[s,m].value*model_2.UnitOutSourceCost[s,m],2)\n",
        "\n",
        "    Output2.append([s, m, staff_count,num_app_staff,num_app_outsourced, total_applications, staff_cost, outsourcing_cost, total_cost])\n",
        "\n",
        "worst_case_output = pd.DataFrame(Output2,columns=['State', 'Month', 'staff_count','num_app_staff','num_app_outsourced', 'total_applications', 'staff_cost', 'outsourcing_cost', 'total_cost'])\n",
        "worst_case_output.head(10)"
      ],
      "execution_count": null,
      "outputs": [
        {
          "output_type": "execute_result",
          "data": {
            "text/html": [
              "<div>\n",
              "<style scoped>\n",
              "    .dataframe tbody tr th:only-of-type {\n",
              "        vertical-align: middle;\n",
              "    }\n",
              "\n",
              "    .dataframe tbody tr th {\n",
              "        vertical-align: top;\n",
              "    }\n",
              "\n",
              "    .dataframe thead th {\n",
              "        text-align: right;\n",
              "    }\n",
              "</style>\n",
              "<table border=\"1\" class=\"dataframe\">\n",
              "  <thead>\n",
              "    <tr style=\"text-align: right;\">\n",
              "      <th></th>\n",
              "      <th>State</th>\n",
              "      <th>Month</th>\n",
              "      <th>staff_count</th>\n",
              "      <th>num_app_staff</th>\n",
              "      <th>num_app_outsourced</th>\n",
              "      <th>total_applications</th>\n",
              "      <th>staff_cost</th>\n",
              "      <th>outsourcing_cost</th>\n",
              "      <th>total_cost</th>\n",
              "    </tr>\n",
              "  </thead>\n",
              "  <tbody>\n",
              "    <tr>\n",
              "      <th>0</th>\n",
              "      <td>A</td>\n",
              "      <td>Jan</td>\n",
              "      <td>187.14</td>\n",
              "      <td>5240.0</td>\n",
              "      <td>0.0</td>\n",
              "      <td>5240</td>\n",
              "      <td>935714.29</td>\n",
              "      <td>0.0</td>\n",
              "      <td>935714.29</td>\n",
              "    </tr>\n",
              "    <tr>\n",
              "      <th>1</th>\n",
              "      <td>A</td>\n",
              "      <td>Feb</td>\n",
              "      <td>131.35</td>\n",
              "      <td>3415.0</td>\n",
              "      <td>1463.0</td>\n",
              "      <td>4878</td>\n",
              "      <td>656730.77</td>\n",
              "      <td>263340.0</td>\n",
              "      <td>920070.77</td>\n",
              "    </tr>\n",
              "    <tr>\n",
              "      <th>2</th>\n",
              "      <td>A</td>\n",
              "      <td>Mar</td>\n",
              "      <td>212.21</td>\n",
              "      <td>5942.0</td>\n",
              "      <td>0.0</td>\n",
              "      <td>5942</td>\n",
              "      <td>1061071.43</td>\n",
              "      <td>0.0</td>\n",
              "      <td>1061071.43</td>\n",
              "    </tr>\n",
              "    <tr>\n",
              "      <th>3</th>\n",
              "      <td>A</td>\n",
              "      <td>Apr</td>\n",
              "      <td>76.57</td>\n",
              "      <td>2297.0</td>\n",
              "      <td>0.0</td>\n",
              "      <td>2297</td>\n",
              "      <td>382833.33</td>\n",
              "      <td>0.0</td>\n",
              "      <td>382833.33</td>\n",
              "    </tr>\n",
              "    <tr>\n",
              "      <th>4</th>\n",
              "      <td>A</td>\n",
              "      <td>May</td>\n",
              "      <td>71.14</td>\n",
              "      <td>1992.0</td>\n",
              "      <td>0.0</td>\n",
              "      <td>1992</td>\n",
              "      <td>355714.29</td>\n",
              "      <td>0.0</td>\n",
              "      <td>355714.29</td>\n",
              "    </tr>\n",
              "    <tr>\n",
              "      <th>5</th>\n",
              "      <td>A</td>\n",
              "      <td>Jun</td>\n",
              "      <td>61.27</td>\n",
              "      <td>1593.0</td>\n",
              "      <td>682.0</td>\n",
              "      <td>2275</td>\n",
              "      <td>306346.15</td>\n",
              "      <td>122760.0</td>\n",
              "      <td>429106.15</td>\n",
              "    </tr>\n",
              "    <tr>\n",
              "      <th>6</th>\n",
              "      <td>A</td>\n",
              "      <td>Jul</td>\n",
              "      <td>155.58</td>\n",
              "      <td>3734.0</td>\n",
              "      <td>1600.0</td>\n",
              "      <td>5334</td>\n",
              "      <td>777916.67</td>\n",
              "      <td>288000.0</td>\n",
              "      <td>1065916.67</td>\n",
              "    </tr>\n",
              "    <tr>\n",
              "      <th>7</th>\n",
              "      <td>A</td>\n",
              "      <td>Aug</td>\n",
              "      <td>90.77</td>\n",
              "      <td>2360.0</td>\n",
              "      <td>1011.0</td>\n",
              "      <td>3371</td>\n",
              "      <td>453846.15</td>\n",
              "      <td>181980.0</td>\n",
              "      <td>635826.15</td>\n",
              "    </tr>\n",
              "    <tr>\n",
              "      <th>8</th>\n",
              "      <td>A</td>\n",
              "      <td>Sep</td>\n",
              "      <td>134.25</td>\n",
              "      <td>3759.0</td>\n",
              "      <td>0.0</td>\n",
              "      <td>3759</td>\n",
              "      <td>671250.00</td>\n",
              "      <td>0.0</td>\n",
              "      <td>671250.00</td>\n",
              "    </tr>\n",
              "    <tr>\n",
              "      <th>9</th>\n",
              "      <td>A</td>\n",
              "      <td>Oct</td>\n",
              "      <td>95.04</td>\n",
              "      <td>2471.0</td>\n",
              "      <td>1058.0</td>\n",
              "      <td>3529</td>\n",
              "      <td>475192.31</td>\n",
              "      <td>190440.0</td>\n",
              "      <td>665632.31</td>\n",
              "    </tr>\n",
              "  </tbody>\n",
              "</table>\n",
              "</div>"
            ],
            "text/plain": [
              "  State Month  staff_count  ...  staff_cost  outsourcing_cost  total_cost\n",
              "0     A   Jan       187.14  ...   935714.29               0.0   935714.29\n",
              "1     A   Feb       131.35  ...   656730.77          263340.0   920070.77\n",
              "2     A   Mar       212.21  ...  1061071.43               0.0  1061071.43\n",
              "3     A   Apr        76.57  ...   382833.33               0.0   382833.33\n",
              "4     A   May        71.14  ...   355714.29               0.0   355714.29\n",
              "5     A   Jun        61.27  ...   306346.15          122760.0   429106.15\n",
              "6     A   Jul       155.58  ...   777916.67          288000.0  1065916.67\n",
              "7     A   Aug        90.77  ...   453846.15          181980.0   635826.15\n",
              "8     A   Sep       134.25  ...   671250.00               0.0   671250.00\n",
              "9     A   Oct        95.04  ...   475192.31          190440.0   665632.31\n",
              "\n",
              "[10 rows x 9 columns]"
            ]
          },
          "metadata": {
            "tags": []
          },
          "execution_count": 76
        }
      ]
    },
    {
      "cell_type": "markdown",
      "metadata": {
        "id": "sE861k8ig-uS"
      },
      "source": [
        "#### 3.1.2 Percentage of outsourced applications "
      ]
    },
    {
      "cell_type": "code",
      "metadata": {
        "id": "uedvA38rg-uT",
        "colab": {
          "base_uri": "https://localhost:8080/"
        },
        "outputId": "22d500cf-bcbc-4768-dab6-bbcfdb28c154"
      },
      "source": [
        "# write your code here\n",
        "round((worst_case_output['num_app_outsourced'].sum()/worst_case_output['total_applications'].sum())*100,2)"
      ],
      "execution_count": null,
      "outputs": [
        {
          "output_type": "execute_result",
          "data": {
            "text/plain": [
              "35.14"
            ]
          },
          "metadata": {
            "tags": []
          },
          "execution_count": 77
        }
      ]
    },
    {
      "cell_type": "markdown",
      "metadata": {
        "id": "5SKeh-WUnHQq"
      },
      "source": [
        "Overall 35.14% of applications are outsourced for the worst-case scenario\r\n"
      ]
    },
    {
      "cell_type": "code",
      "metadata": {
        "colab": {
          "base_uri": "https://localhost:8080/",
          "height": 204
        },
        "id": "7s1MucS_nGzh",
        "outputId": "59f0ac8a-e283-46d0-9e49-18e30534cd2e"
      },
      "source": [
        "# Percentage of applications outsourced for each state per month\r\n",
        "\r\n",
        "worst_case_output['perc_outsourced_app'] = round((worst_case_output['num_app_outsourced']/worst_case_output['total_applications'])*100,2)\r\n",
        "worst_case_output.head()"
      ],
      "execution_count": null,
      "outputs": [
        {
          "output_type": "execute_result",
          "data": {
            "text/html": [
              "<div>\n",
              "<style scoped>\n",
              "    .dataframe tbody tr th:only-of-type {\n",
              "        vertical-align: middle;\n",
              "    }\n",
              "\n",
              "    .dataframe tbody tr th {\n",
              "        vertical-align: top;\n",
              "    }\n",
              "\n",
              "    .dataframe thead th {\n",
              "        text-align: right;\n",
              "    }\n",
              "</style>\n",
              "<table border=\"1\" class=\"dataframe\">\n",
              "  <thead>\n",
              "    <tr style=\"text-align: right;\">\n",
              "      <th></th>\n",
              "      <th>State</th>\n",
              "      <th>Month</th>\n",
              "      <th>staff_count</th>\n",
              "      <th>num_app_staff</th>\n",
              "      <th>num_app_outsourced</th>\n",
              "      <th>total_applications</th>\n",
              "      <th>staff_cost</th>\n",
              "      <th>outsourcing_cost</th>\n",
              "      <th>total_cost</th>\n",
              "      <th>perc_outsourced_app</th>\n",
              "    </tr>\n",
              "  </thead>\n",
              "  <tbody>\n",
              "    <tr>\n",
              "      <th>0</th>\n",
              "      <td>A</td>\n",
              "      <td>Jan</td>\n",
              "      <td>187.14</td>\n",
              "      <td>5240.0</td>\n",
              "      <td>0.0</td>\n",
              "      <td>5240</td>\n",
              "      <td>935714.29</td>\n",
              "      <td>0.0</td>\n",
              "      <td>935714.29</td>\n",
              "      <td>0.00</td>\n",
              "    </tr>\n",
              "    <tr>\n",
              "      <th>1</th>\n",
              "      <td>A</td>\n",
              "      <td>Feb</td>\n",
              "      <td>131.35</td>\n",
              "      <td>3415.0</td>\n",
              "      <td>1463.0</td>\n",
              "      <td>4878</td>\n",
              "      <td>656730.77</td>\n",
              "      <td>263340.0</td>\n",
              "      <td>920070.77</td>\n",
              "      <td>29.99</td>\n",
              "    </tr>\n",
              "    <tr>\n",
              "      <th>2</th>\n",
              "      <td>A</td>\n",
              "      <td>Mar</td>\n",
              "      <td>212.21</td>\n",
              "      <td>5942.0</td>\n",
              "      <td>0.0</td>\n",
              "      <td>5942</td>\n",
              "      <td>1061071.43</td>\n",
              "      <td>0.0</td>\n",
              "      <td>1061071.43</td>\n",
              "      <td>0.00</td>\n",
              "    </tr>\n",
              "    <tr>\n",
              "      <th>3</th>\n",
              "      <td>A</td>\n",
              "      <td>Apr</td>\n",
              "      <td>76.57</td>\n",
              "      <td>2297.0</td>\n",
              "      <td>0.0</td>\n",
              "      <td>2297</td>\n",
              "      <td>382833.33</td>\n",
              "      <td>0.0</td>\n",
              "      <td>382833.33</td>\n",
              "      <td>0.00</td>\n",
              "    </tr>\n",
              "    <tr>\n",
              "      <th>4</th>\n",
              "      <td>A</td>\n",
              "      <td>May</td>\n",
              "      <td>71.14</td>\n",
              "      <td>1992.0</td>\n",
              "      <td>0.0</td>\n",
              "      <td>1992</td>\n",
              "      <td>355714.29</td>\n",
              "      <td>0.0</td>\n",
              "      <td>355714.29</td>\n",
              "      <td>0.00</td>\n",
              "    </tr>\n",
              "  </tbody>\n",
              "</table>\n",
              "</div>"
            ],
            "text/plain": [
              "  State Month  staff_count  ...  outsourcing_cost  total_cost  perc_outsourced_app\n",
              "0     A   Jan       187.14  ...               0.0   935714.29                 0.00\n",
              "1     A   Feb       131.35  ...          263340.0   920070.77                29.99\n",
              "2     A   Mar       212.21  ...               0.0  1061071.43                 0.00\n",
              "3     A   Apr        76.57  ...               0.0   382833.33                 0.00\n",
              "4     A   May        71.14  ...               0.0   355714.29                 0.00\n",
              "\n",
              "[5 rows x 10 columns]"
            ]
          },
          "metadata": {
            "tags": []
          },
          "execution_count": 78
        }
      ]
    },
    {
      "cell_type": "markdown",
      "metadata": {
        "id": "5xfMLJmXg-uT"
      },
      "source": [
        "#### 3.1.3 Average cost per application"
      ]
    },
    {
      "cell_type": "code",
      "metadata": {
        "id": "ymy6D35Yg-uT",
        "colab": {
          "base_uri": "https://localhost:8080/"
        },
        "outputId": "fee3c63c-37f4-466d-ffa2-ff180b9141cf"
      },
      "source": [
        "# write your code here\n",
        "round(worst_case_output['total_cost'].sum()/worst_case_output['total_applications'].sum(),2)"
      ],
      "execution_count": null,
      "outputs": [
        {
          "output_type": "execute_result",
          "data": {
            "text/plain": [
              "173.0"
            ]
          },
          "metadata": {
            "tags": []
          },
          "execution_count": 79
        }
      ]
    },
    {
      "cell_type": "markdown",
      "metadata": {
        "id": "O_uejeJCmbeu"
      },
      "source": [
        "Overall average cost per application for the worst-case scenario is $173"
      ]
    },
    {
      "cell_type": "code",
      "metadata": {
        "colab": {
          "base_uri": "https://localhost:8080/",
          "height": 224
        },
        "id": "DGujJVD8k7Cn",
        "outputId": "8717b94e-1771-40c1-b1c1-50cde12449f2"
      },
      "source": [
        "# Average cost per application for each state per month\r\n",
        "\r\n",
        "worst_case_output['avg_cost_per_app'] = round(worst_case_output['total_cost']/worst_case_output['total_applications'],2)\r\n",
        "worst_case_output.head()"
      ],
      "execution_count": null,
      "outputs": [
        {
          "output_type": "execute_result",
          "data": {
            "text/html": [
              "<div>\n",
              "<style scoped>\n",
              "    .dataframe tbody tr th:only-of-type {\n",
              "        vertical-align: middle;\n",
              "    }\n",
              "\n",
              "    .dataframe tbody tr th {\n",
              "        vertical-align: top;\n",
              "    }\n",
              "\n",
              "    .dataframe thead th {\n",
              "        text-align: right;\n",
              "    }\n",
              "</style>\n",
              "<table border=\"1\" class=\"dataframe\">\n",
              "  <thead>\n",
              "    <tr style=\"text-align: right;\">\n",
              "      <th></th>\n",
              "      <th>State</th>\n",
              "      <th>Month</th>\n",
              "      <th>staff_count</th>\n",
              "      <th>num_app_staff</th>\n",
              "      <th>num_app_outsourced</th>\n",
              "      <th>total_applications</th>\n",
              "      <th>staff_cost</th>\n",
              "      <th>outsourcing_cost</th>\n",
              "      <th>total_cost</th>\n",
              "      <th>perc_outsourced_app</th>\n",
              "      <th>avg_cost_per_app</th>\n",
              "    </tr>\n",
              "  </thead>\n",
              "  <tbody>\n",
              "    <tr>\n",
              "      <th>0</th>\n",
              "      <td>A</td>\n",
              "      <td>Jan</td>\n",
              "      <td>187.14</td>\n",
              "      <td>5240.0</td>\n",
              "      <td>0.0</td>\n",
              "      <td>5240</td>\n",
              "      <td>935714.29</td>\n",
              "      <td>0.0</td>\n",
              "      <td>935714.29</td>\n",
              "      <td>0.00</td>\n",
              "      <td>178.57</td>\n",
              "    </tr>\n",
              "    <tr>\n",
              "      <th>1</th>\n",
              "      <td>A</td>\n",
              "      <td>Feb</td>\n",
              "      <td>131.35</td>\n",
              "      <td>3415.0</td>\n",
              "      <td>1463.0</td>\n",
              "      <td>4878</td>\n",
              "      <td>656730.77</td>\n",
              "      <td>263340.0</td>\n",
              "      <td>920070.77</td>\n",
              "      <td>29.99</td>\n",
              "      <td>188.62</td>\n",
              "    </tr>\n",
              "    <tr>\n",
              "      <th>2</th>\n",
              "      <td>A</td>\n",
              "      <td>Mar</td>\n",
              "      <td>212.21</td>\n",
              "      <td>5942.0</td>\n",
              "      <td>0.0</td>\n",
              "      <td>5942</td>\n",
              "      <td>1061071.43</td>\n",
              "      <td>0.0</td>\n",
              "      <td>1061071.43</td>\n",
              "      <td>0.00</td>\n",
              "      <td>178.57</td>\n",
              "    </tr>\n",
              "    <tr>\n",
              "      <th>3</th>\n",
              "      <td>A</td>\n",
              "      <td>Apr</td>\n",
              "      <td>76.57</td>\n",
              "      <td>2297.0</td>\n",
              "      <td>0.0</td>\n",
              "      <td>2297</td>\n",
              "      <td>382833.33</td>\n",
              "      <td>0.0</td>\n",
              "      <td>382833.33</td>\n",
              "      <td>0.00</td>\n",
              "      <td>166.67</td>\n",
              "    </tr>\n",
              "    <tr>\n",
              "      <th>4</th>\n",
              "      <td>A</td>\n",
              "      <td>May</td>\n",
              "      <td>71.14</td>\n",
              "      <td>1992.0</td>\n",
              "      <td>0.0</td>\n",
              "      <td>1992</td>\n",
              "      <td>355714.29</td>\n",
              "      <td>0.0</td>\n",
              "      <td>355714.29</td>\n",
              "      <td>0.00</td>\n",
              "      <td>178.57</td>\n",
              "    </tr>\n",
              "  </tbody>\n",
              "</table>\n",
              "</div>"
            ],
            "text/plain": [
              "  State Month  staff_count  ...  total_cost  perc_outsourced_app  avg_cost_per_app\n",
              "0     A   Jan       187.14  ...   935714.29                 0.00            178.57\n",
              "1     A   Feb       131.35  ...   920070.77                29.99            188.62\n",
              "2     A   Mar       212.21  ...  1061071.43                 0.00            178.57\n",
              "3     A   Apr        76.57  ...   382833.33                 0.00            166.67\n",
              "4     A   May        71.14  ...   355714.29                 0.00            178.57\n",
              "\n",
              "[5 rows x 11 columns]"
            ]
          },
          "metadata": {
            "tags": []
          },
          "execution_count": 80
        }
      ]
    },
    {
      "cell_type": "markdown",
      "metadata": {
        "id": "JKUtBMwug-uU"
      },
      "source": [
        "### 3.2  Best Case Analysis "
      ]
    },
    {
      "cell_type": "markdown",
      "metadata": {
        "id": "_4ypF5CTg-uU"
      },
      "source": [
        "#### 3.2.1 Optimal number of staff members\n"
      ]
    },
    {
      "cell_type": "code",
      "metadata": {
        "id": "6nNHb6MNg-uU"
      },
      "source": [
        "# Creating a model instance\n",
        "model_3 = ConcreteModel()"
      ],
      "execution_count": null,
      "outputs": []
    },
    {
      "cell_type": "code",
      "metadata": {
        "id": "uL8EAGPVg-uU"
      },
      "source": [
        "# Define Pyomo sets and Parameters\n",
        "\n",
        "model_3.State = Set(initialize = State.tolist(), doc = \"State\" )\n",
        "model_3.Month = Set(initialize = Month.tolist(), doc = \"Month\" )\n",
        "\n",
        "model_3.demand_state_month = Param(model_3.State, model_3.Month, initialize= demand_state_month, doc= \"Demand for each State per Month\")\n",
        "model_3.Avg_availability = Param(model_3.State, model_3.Month, initialize= Avg_availability, doc= \"Avg Availability of Internal Staff\")\n",
        "model_3.LB_availability = Param(model_3.State, model_3.Month, initialize= LB_availability, doc= \"Best Case Availability\")\n",
        "model_3.UB_availability = Param(model_3.State, model_3.Month, initialize= UB_availability, doc= \"UB_availability\")\n",
        "model_3.MonthlySalary = Param(model_3.State, initialize= MonthlySalary, doc= \"Monthly Salary\")\n",
        "model_3.UnitOutSourceCost = Param(model_3.State, model_3.Month, initialize= UnitOutSourceCost, doc= \"Outsourcing Cost per Application\")\n"
      ],
      "execution_count": null,
      "outputs": []
    },
    {
      "cell_type": "code",
      "metadata": {
        "id": "A1uLyb1mb4Ju"
      },
      "source": [
        "# Decision variables\r\n",
        "\r\n",
        "# Decision variable for internal staff members (Count of internal staff members)\r\n",
        "model_3.x = Var(model_3.State, model_3.Month, within=NonNegativeReals, doc= \"Number of staff members\") \r\n",
        "\r\n",
        "# Decision variable for outsourced vendors (Number of applications processed by outsourced vendors)\r\n",
        "model_3.y = Var(model_3.State, model_3.Month, within=NonNegativeIntegers, doc = \"Number of Applications Outsourced to Vendors\")"
      ],
      "execution_count": null,
      "outputs": []
    },
    {
      "cell_type": "code",
      "metadata": {
        "id": "b5m4ODUIcGQt"
      },
      "source": [
        "# Constraints\r\n",
        "\r\n",
        "# Maximum percentage of applications that can be processed by vendors in different states\r\n",
        "max_ratio = {'A':0.3, 'B':0.4, 'C':1}\r\n",
        "\r\n",
        "def max_applications_func(model_3,s,m):\r\n",
        "  return model_3.y[s,m] <= max_ratio[s]*model_3.demand_state_month[s,m]\r\n",
        "\r\n",
        "model_3.max_applications = Constraint(model_3.State, model_3.Month, rule=max_applications_func)\r\n",
        "\r\n",
        "# For each month with respect to its State, the sum of total applications processed by vendors and total applications \r\n",
        "# processed by the internal staff should be equal to the total number of applications\r\n",
        "\r\n",
        "def total_applications_func(model_3,s,m):\r\n",
        "  return model_3.demand_state_month[s,m] == model_3.UB_availability[s,m]*app_processed_by_staff*model_3.x[s,m] + model_3.y[s,m]\r\n",
        "\r\n",
        "model_3.total_applications = Constraint(model_3.State,model_3.Month,rule=total_applications_func)"
      ],
      "execution_count": null,
      "outputs": []
    },
    {
      "cell_type": "code",
      "metadata": {
        "id": "73oCE01ici7G"
      },
      "source": [
        "# Objective function\r\n",
        "\r\n",
        "def obj_rule(model_3):\r\n",
        "  total_staff_cost = sum(model_3.MonthlySalary[s]*model_3.x[s,m] for s in model_3.State for m in model_3.Month)\r\n",
        "  total_vendor_cost = sum(model_3.UnitOutSourceCost[s,m]*model_3.y[s,m] for s in model_3.State for m in model_3.Month)\r\n",
        "  return total_staff_cost + total_vendor_cost\r\n",
        "\r\n",
        "model_3.objvalue = Objective(rule=obj_rule, sense=minimize)"
      ],
      "execution_count": null,
      "outputs": []
    },
    {
      "cell_type": "code",
      "metadata": {
        "id": "NCy8L6x8g-uV",
        "colab": {
          "base_uri": "https://localhost:8080/"
        },
        "outputId": "a1be05c3-b0d4-4109-f5f4-245530509c05"
      },
      "source": [
        "# Invoking the solver\n",
        "result3 = SolverFactory('glpk', executable='/usr/bin/glpsol').solve(model_3)\n",
        "result3.write()"
      ],
      "execution_count": null,
      "outputs": [
        {
          "output_type": "stream",
          "text": [
            "# ==========================================================\n",
            "# = Solver Results                                         =\n",
            "# ==========================================================\n",
            "# ----------------------------------------------------------\n",
            "#   Problem Information\n",
            "# ----------------------------------------------------------\n",
            "Problem: \n",
            "- Name: unknown\n",
            "  Lower bound: 16527535.6379357\n",
            "  Upper bound: 16527535.6379357\n",
            "  Number of objectives: 1\n",
            "  Number of constraints: 73\n",
            "  Number of variables: 73\n",
            "  Number of nonzeros: 109\n",
            "  Sense: minimize\n",
            "# ----------------------------------------------------------\n",
            "#   Solver Information\n",
            "# ----------------------------------------------------------\n",
            "Solver: \n",
            "- Status: ok\n",
            "  Termination condition: optimal\n",
            "  Statistics: \n",
            "    Branch and bound: \n",
            "      Number of bounded subproblems: 0\n",
            "      Number of created subproblems: 0\n",
            "  Error rc: 0\n",
            "  Time: 0.015629053115844727\n",
            "# ----------------------------------------------------------\n",
            "#   Solution Information\n",
            "# ----------------------------------------------------------\n",
            "Solution: \n",
            "- number of solutions: 0\n",
            "  number of solutions displayed: 0\n"
          ],
          "name": "stdout"
        }
      ]
    },
    {
      "cell_type": "code",
      "metadata": {
        "id": "_lfjjDhIg-uW",
        "colab": {
          "base_uri": "https://localhost:8080/"
        },
        "outputId": "11df6f4f-0d39-41b9-fc73-022270908625"
      },
      "source": [
        "# Print the value of the objective function\n",
        "round(model_3.objvalue(),2)"
      ],
      "execution_count": null,
      "outputs": [
        {
          "output_type": "execute_result",
          "data": {
            "text/plain": [
              "16527535.64"
            ]
          },
          "metadata": {
            "tags": []
          },
          "execution_count": 87
        }
      ]
    },
    {
      "cell_type": "markdown",
      "metadata": {
        "id": "2A_-sms6g-uW"
      },
      "source": [
        "**`Checkpoint 3:`** The company has to spend around 16.5 m$ in total for the application approval process if the staffs are working with the maximum availability."
      ]
    },
    {
      "cell_type": "code",
      "metadata": {
        "id": "UlAGtK5Ag-uW",
        "colab": {
          "base_uri": "https://localhost:8080/",
          "height": 359
        },
        "outputId": "2c1c42cf-c75d-4bb0-f630-0ccde9b358c4"
      },
      "source": [
        "# Creating dataframe for the results\n",
        "\n",
        "#Creating an empty list\n",
        "Output3 = []\n",
        "\n",
        "for s in model_3.State:\n",
        "  for m in model_3.Month:\n",
        "\n",
        "    # Number of staff members for each State and Month\n",
        "    staff_count = round(model_3.x[s,m].value,2)\n",
        "\n",
        "    # Number of applications processed by staff\n",
        "    num_app_staff = round(model_3.UB_availability[s,m]*app_processed_by_staff,2)*model_3.x[s,m].value\n",
        "\n",
        "    # Number of applications processed by outsourcing\n",
        "    num_app_outsourced = model_3.y[s,m].value\n",
        "\n",
        "    # total applications\n",
        "    total_applications = model_3.demand_state_month[s,m]\n",
        "\n",
        "    # Staff estimated cost\n",
        "    staff_cost = round(model_3.x[s,m].value*model_3.MonthlySalary[s],2)\n",
        "\n",
        "    # Outsourced estimated cost\n",
        "    outsourcing_cost = round(model_3.y[s,m].value*model_3.UnitOutSourceCost[s,m],2)\n",
        "\n",
        "    # Total cost\n",
        "    total_cost = round(model_3.x[s,m].value*model_3.MonthlySalary[s] + model_3.y[s,m].value*model_3.UnitOutSourceCost[s,m],2)\n",
        "\n",
        "    Output3.append([s, m, staff_count,num_app_staff,num_app_outsourced, total_applications, staff_cost, outsourcing_cost, total_cost])\n",
        "\n",
        "best_case_output = pd.DataFrame(Output3,columns=['State', 'Month', 'staff_count','num_app_staff','num_app_outsourced', 'total_applications', 'staff_cost', 'outsourcing_cost', 'total_cost'])\n",
        "best_case_output.head(10)"
      ],
      "execution_count": null,
      "outputs": [
        {
          "output_type": "execute_result",
          "data": {
            "text/html": [
              "<div>\n",
              "<style scoped>\n",
              "    .dataframe tbody tr th:only-of-type {\n",
              "        vertical-align: middle;\n",
              "    }\n",
              "\n",
              "    .dataframe tbody tr th {\n",
              "        vertical-align: top;\n",
              "    }\n",
              "\n",
              "    .dataframe thead th {\n",
              "        text-align: right;\n",
              "    }\n",
              "</style>\n",
              "<table border=\"1\" class=\"dataframe\">\n",
              "  <thead>\n",
              "    <tr style=\"text-align: right;\">\n",
              "      <th></th>\n",
              "      <th>State</th>\n",
              "      <th>Month</th>\n",
              "      <th>staff_count</th>\n",
              "      <th>num_app_staff</th>\n",
              "      <th>num_app_outsourced</th>\n",
              "      <th>total_applications</th>\n",
              "      <th>staff_cost</th>\n",
              "      <th>outsourcing_cost</th>\n",
              "      <th>total_cost</th>\n",
              "    </tr>\n",
              "  </thead>\n",
              "  <tbody>\n",
              "    <tr>\n",
              "      <th>0</th>\n",
              "      <td>A</td>\n",
              "      <td>Jan</td>\n",
              "      <td>145.56</td>\n",
              "      <td>5240.0</td>\n",
              "      <td>0.0</td>\n",
              "      <td>5240</td>\n",
              "      <td>727777.78</td>\n",
              "      <td>0.0</td>\n",
              "      <td>727777.78</td>\n",
              "    </tr>\n",
              "    <tr>\n",
              "      <th>1</th>\n",
              "      <td>A</td>\n",
              "      <td>Feb</td>\n",
              "      <td>143.47</td>\n",
              "      <td>4878.0</td>\n",
              "      <td>0.0</td>\n",
              "      <td>4878</td>\n",
              "      <td>717352.94</td>\n",
              "      <td>0.0</td>\n",
              "      <td>717352.94</td>\n",
              "    </tr>\n",
              "    <tr>\n",
              "      <th>2</th>\n",
              "      <td>A</td>\n",
              "      <td>Mar</td>\n",
              "      <td>185.69</td>\n",
              "      <td>5942.0</td>\n",
              "      <td>0.0</td>\n",
              "      <td>5942</td>\n",
              "      <td>928437.50</td>\n",
              "      <td>0.0</td>\n",
              "      <td>928437.50</td>\n",
              "    </tr>\n",
              "    <tr>\n",
              "      <th>3</th>\n",
              "      <td>A</td>\n",
              "      <td>Apr</td>\n",
              "      <td>67.56</td>\n",
              "      <td>2297.0</td>\n",
              "      <td>0.0</td>\n",
              "      <td>2297</td>\n",
              "      <td>337794.12</td>\n",
              "      <td>0.0</td>\n",
              "      <td>337794.12</td>\n",
              "    </tr>\n",
              "    <tr>\n",
              "      <th>4</th>\n",
              "      <td>A</td>\n",
              "      <td>May</td>\n",
              "      <td>58.59</td>\n",
              "      <td>1992.0</td>\n",
              "      <td>0.0</td>\n",
              "      <td>1992</td>\n",
              "      <td>292941.18</td>\n",
              "      <td>0.0</td>\n",
              "      <td>292941.18</td>\n",
              "    </tr>\n",
              "    <tr>\n",
              "      <th>5</th>\n",
              "      <td>A</td>\n",
              "      <td>Jun</td>\n",
              "      <td>71.09</td>\n",
              "      <td>2275.0</td>\n",
              "      <td>0.0</td>\n",
              "      <td>2275</td>\n",
              "      <td>355468.75</td>\n",
              "      <td>0.0</td>\n",
              "      <td>355468.75</td>\n",
              "    </tr>\n",
              "    <tr>\n",
              "      <th>6</th>\n",
              "      <td>A</td>\n",
              "      <td>Jul</td>\n",
              "      <td>177.80</td>\n",
              "      <td>5334.0</td>\n",
              "      <td>0.0</td>\n",
              "      <td>5334</td>\n",
              "      <td>889000.00</td>\n",
              "      <td>0.0</td>\n",
              "      <td>889000.00</td>\n",
              "    </tr>\n",
              "    <tr>\n",
              "      <th>7</th>\n",
              "      <td>A</td>\n",
              "      <td>Aug</td>\n",
              "      <td>99.15</td>\n",
              "      <td>3371.0</td>\n",
              "      <td>0.0</td>\n",
              "      <td>3371</td>\n",
              "      <td>495735.29</td>\n",
              "      <td>0.0</td>\n",
              "      <td>495735.29</td>\n",
              "    </tr>\n",
              "    <tr>\n",
              "      <th>8</th>\n",
              "      <td>A</td>\n",
              "      <td>Sep</td>\n",
              "      <td>104.42</td>\n",
              "      <td>3759.0</td>\n",
              "      <td>0.0</td>\n",
              "      <td>3759</td>\n",
              "      <td>522083.33</td>\n",
              "      <td>0.0</td>\n",
              "      <td>522083.33</td>\n",
              "    </tr>\n",
              "    <tr>\n",
              "      <th>9</th>\n",
              "      <td>A</td>\n",
              "      <td>Oct</td>\n",
              "      <td>110.28</td>\n",
              "      <td>3529.0</td>\n",
              "      <td>0.0</td>\n",
              "      <td>3529</td>\n",
              "      <td>551406.25</td>\n",
              "      <td>0.0</td>\n",
              "      <td>551406.25</td>\n",
              "    </tr>\n",
              "  </tbody>\n",
              "</table>\n",
              "</div>"
            ],
            "text/plain": [
              "  State Month  staff_count  ...  staff_cost  outsourcing_cost  total_cost\n",
              "0     A   Jan       145.56  ...   727777.78               0.0   727777.78\n",
              "1     A   Feb       143.47  ...   717352.94               0.0   717352.94\n",
              "2     A   Mar       185.69  ...   928437.50               0.0   928437.50\n",
              "3     A   Apr        67.56  ...   337794.12               0.0   337794.12\n",
              "4     A   May        58.59  ...   292941.18               0.0   292941.18\n",
              "5     A   Jun        71.09  ...   355468.75               0.0   355468.75\n",
              "6     A   Jul       177.80  ...   889000.00               0.0   889000.00\n",
              "7     A   Aug        99.15  ...   495735.29               0.0   495735.29\n",
              "8     A   Sep       104.42  ...   522083.33               0.0   522083.33\n",
              "9     A   Oct       110.28  ...   551406.25               0.0   551406.25\n",
              "\n",
              "[10 rows x 9 columns]"
            ]
          },
          "metadata": {
            "tags": []
          },
          "execution_count": 88
        }
      ]
    },
    {
      "cell_type": "markdown",
      "metadata": {
        "id": "FcGy0pUQg-uX"
      },
      "source": [
        "#### 3.2.2 Percentage of outsourced applications"
      ]
    },
    {
      "cell_type": "code",
      "metadata": {
        "id": "ZdLCivQFg-uX",
        "colab": {
          "base_uri": "https://localhost:8080/"
        },
        "outputId": "a26f8a18-8bbc-4d12-9aac-484bf1820922"
      },
      "source": [
        "# write your code here\n",
        "round(best_case_output['num_app_outsourced'].sum()/best_case_output['total_applications'].sum()*100,2)"
      ],
      "execution_count": null,
      "outputs": [
        {
          "output_type": "execute_result",
          "data": {
            "text/plain": [
              "4.11"
            ]
          },
          "metadata": {
            "tags": []
          },
          "execution_count": 89
        }
      ]
    },
    {
      "cell_type": "markdown",
      "metadata": {
        "id": "WkIKQ8uCpqNB"
      },
      "source": [
        "Overall 4.11% of applications are outsourced for the best-case scenario\r\n"
      ]
    },
    {
      "cell_type": "code",
      "metadata": {
        "colab": {
          "base_uri": "https://localhost:8080/",
          "height": 204
        },
        "id": "-a3Z3DfIp9vN",
        "outputId": "3bf4ea68-fbce-44c5-c994-eedfb4b0f99b"
      },
      "source": [
        "# Percentage of applications outsourced for each state per month\r\n",
        "\r\n",
        "best_case_output['perc_outsourced_app'] = round((best_case_output['num_app_outsourced']/best_case_output['total_applications'])*100,2)\r\n",
        "best_case_output.head()"
      ],
      "execution_count": null,
      "outputs": [
        {
          "output_type": "execute_result",
          "data": {
            "text/html": [
              "<div>\n",
              "<style scoped>\n",
              "    .dataframe tbody tr th:only-of-type {\n",
              "        vertical-align: middle;\n",
              "    }\n",
              "\n",
              "    .dataframe tbody tr th {\n",
              "        vertical-align: top;\n",
              "    }\n",
              "\n",
              "    .dataframe thead th {\n",
              "        text-align: right;\n",
              "    }\n",
              "</style>\n",
              "<table border=\"1\" class=\"dataframe\">\n",
              "  <thead>\n",
              "    <tr style=\"text-align: right;\">\n",
              "      <th></th>\n",
              "      <th>State</th>\n",
              "      <th>Month</th>\n",
              "      <th>staff_count</th>\n",
              "      <th>num_app_staff</th>\n",
              "      <th>num_app_outsourced</th>\n",
              "      <th>total_applications</th>\n",
              "      <th>staff_cost</th>\n",
              "      <th>outsourcing_cost</th>\n",
              "      <th>total_cost</th>\n",
              "      <th>perc_outsourced_app</th>\n",
              "    </tr>\n",
              "  </thead>\n",
              "  <tbody>\n",
              "    <tr>\n",
              "      <th>0</th>\n",
              "      <td>A</td>\n",
              "      <td>Jan</td>\n",
              "      <td>145.56</td>\n",
              "      <td>5240.0</td>\n",
              "      <td>0.0</td>\n",
              "      <td>5240</td>\n",
              "      <td>727777.78</td>\n",
              "      <td>0.0</td>\n",
              "      <td>727777.78</td>\n",
              "      <td>0.0</td>\n",
              "    </tr>\n",
              "    <tr>\n",
              "      <th>1</th>\n",
              "      <td>A</td>\n",
              "      <td>Feb</td>\n",
              "      <td>143.47</td>\n",
              "      <td>4878.0</td>\n",
              "      <td>0.0</td>\n",
              "      <td>4878</td>\n",
              "      <td>717352.94</td>\n",
              "      <td>0.0</td>\n",
              "      <td>717352.94</td>\n",
              "      <td>0.0</td>\n",
              "    </tr>\n",
              "    <tr>\n",
              "      <th>2</th>\n",
              "      <td>A</td>\n",
              "      <td>Mar</td>\n",
              "      <td>185.69</td>\n",
              "      <td>5942.0</td>\n",
              "      <td>0.0</td>\n",
              "      <td>5942</td>\n",
              "      <td>928437.50</td>\n",
              "      <td>0.0</td>\n",
              "      <td>928437.50</td>\n",
              "      <td>0.0</td>\n",
              "    </tr>\n",
              "    <tr>\n",
              "      <th>3</th>\n",
              "      <td>A</td>\n",
              "      <td>Apr</td>\n",
              "      <td>67.56</td>\n",
              "      <td>2297.0</td>\n",
              "      <td>0.0</td>\n",
              "      <td>2297</td>\n",
              "      <td>337794.12</td>\n",
              "      <td>0.0</td>\n",
              "      <td>337794.12</td>\n",
              "      <td>0.0</td>\n",
              "    </tr>\n",
              "    <tr>\n",
              "      <th>4</th>\n",
              "      <td>A</td>\n",
              "      <td>May</td>\n",
              "      <td>58.59</td>\n",
              "      <td>1992.0</td>\n",
              "      <td>0.0</td>\n",
              "      <td>1992</td>\n",
              "      <td>292941.18</td>\n",
              "      <td>0.0</td>\n",
              "      <td>292941.18</td>\n",
              "      <td>0.0</td>\n",
              "    </tr>\n",
              "  </tbody>\n",
              "</table>\n",
              "</div>"
            ],
            "text/plain": [
              "  State Month  staff_count  ...  outsourcing_cost  total_cost  perc_outsourced_app\n",
              "0     A   Jan       145.56  ...               0.0   727777.78                  0.0\n",
              "1     A   Feb       143.47  ...               0.0   717352.94                  0.0\n",
              "2     A   Mar       185.69  ...               0.0   928437.50                  0.0\n",
              "3     A   Apr        67.56  ...               0.0   337794.12                  0.0\n",
              "4     A   May        58.59  ...               0.0   292941.18                  0.0\n",
              "\n",
              "[5 rows x 10 columns]"
            ]
          },
          "metadata": {
            "tags": []
          },
          "execution_count": 90
        }
      ]
    },
    {
      "cell_type": "markdown",
      "metadata": {
        "id": "Niy2KWOqg-uX"
      },
      "source": [
        "#### 3.2.3 Average cost per application"
      ]
    },
    {
      "cell_type": "code",
      "metadata": {
        "id": "m7P1Me_dg-uY",
        "colab": {
          "base_uri": "https://localhost:8080/"
        },
        "outputId": "53169765-5aed-4028-f803-1ac045d99b48"
      },
      "source": [
        "# write your code here\n",
        "round(best_case_output['total_cost'].sum()/best_case_output['total_applications'].sum(),2)"
      ],
      "execution_count": null,
      "outputs": [
        {
          "output_type": "execute_result",
          "data": {
            "text/plain": [
              "145.88"
            ]
          },
          "metadata": {
            "tags": []
          },
          "execution_count": 91
        }
      ]
    },
    {
      "cell_type": "markdown",
      "metadata": {
        "id": "3wK4_LNHqNqi"
      },
      "source": [
        "Overall average cost per application for the best case-scenario is $145.88\r\n"
      ]
    },
    {
      "cell_type": "code",
      "metadata": {
        "colab": {
          "base_uri": "https://localhost:8080/",
          "height": 224
        },
        "id": "pERT6IN1qU7n",
        "outputId": "43b4a318-efe4-4f37-9965-7362166b7087"
      },
      "source": [
        "# Average cost per application for each state per month\r\n",
        "\r\n",
        "best_case_output['avg_cost_per_app'] = round(best_case_output['total_cost']/best_case_output['total_applications'],2)\r\n",
        "best_case_output.head()"
      ],
      "execution_count": null,
      "outputs": [
        {
          "output_type": "execute_result",
          "data": {
            "text/html": [
              "<div>\n",
              "<style scoped>\n",
              "    .dataframe tbody tr th:only-of-type {\n",
              "        vertical-align: middle;\n",
              "    }\n",
              "\n",
              "    .dataframe tbody tr th {\n",
              "        vertical-align: top;\n",
              "    }\n",
              "\n",
              "    .dataframe thead th {\n",
              "        text-align: right;\n",
              "    }\n",
              "</style>\n",
              "<table border=\"1\" class=\"dataframe\">\n",
              "  <thead>\n",
              "    <tr style=\"text-align: right;\">\n",
              "      <th></th>\n",
              "      <th>State</th>\n",
              "      <th>Month</th>\n",
              "      <th>staff_count</th>\n",
              "      <th>num_app_staff</th>\n",
              "      <th>num_app_outsourced</th>\n",
              "      <th>total_applications</th>\n",
              "      <th>staff_cost</th>\n",
              "      <th>outsourcing_cost</th>\n",
              "      <th>total_cost</th>\n",
              "      <th>perc_outsourced_app</th>\n",
              "      <th>avg_cost_per_app</th>\n",
              "    </tr>\n",
              "  </thead>\n",
              "  <tbody>\n",
              "    <tr>\n",
              "      <th>0</th>\n",
              "      <td>A</td>\n",
              "      <td>Jan</td>\n",
              "      <td>145.56</td>\n",
              "      <td>5240.0</td>\n",
              "      <td>0.0</td>\n",
              "      <td>5240</td>\n",
              "      <td>727777.78</td>\n",
              "      <td>0.0</td>\n",
              "      <td>727777.78</td>\n",
              "      <td>0.0</td>\n",
              "      <td>138.89</td>\n",
              "    </tr>\n",
              "    <tr>\n",
              "      <th>1</th>\n",
              "      <td>A</td>\n",
              "      <td>Feb</td>\n",
              "      <td>143.47</td>\n",
              "      <td>4878.0</td>\n",
              "      <td>0.0</td>\n",
              "      <td>4878</td>\n",
              "      <td>717352.94</td>\n",
              "      <td>0.0</td>\n",
              "      <td>717352.94</td>\n",
              "      <td>0.0</td>\n",
              "      <td>147.06</td>\n",
              "    </tr>\n",
              "    <tr>\n",
              "      <th>2</th>\n",
              "      <td>A</td>\n",
              "      <td>Mar</td>\n",
              "      <td>185.69</td>\n",
              "      <td>5942.0</td>\n",
              "      <td>0.0</td>\n",
              "      <td>5942</td>\n",
              "      <td>928437.50</td>\n",
              "      <td>0.0</td>\n",
              "      <td>928437.50</td>\n",
              "      <td>0.0</td>\n",
              "      <td>156.25</td>\n",
              "    </tr>\n",
              "    <tr>\n",
              "      <th>3</th>\n",
              "      <td>A</td>\n",
              "      <td>Apr</td>\n",
              "      <td>67.56</td>\n",
              "      <td>2297.0</td>\n",
              "      <td>0.0</td>\n",
              "      <td>2297</td>\n",
              "      <td>337794.12</td>\n",
              "      <td>0.0</td>\n",
              "      <td>337794.12</td>\n",
              "      <td>0.0</td>\n",
              "      <td>147.06</td>\n",
              "    </tr>\n",
              "    <tr>\n",
              "      <th>4</th>\n",
              "      <td>A</td>\n",
              "      <td>May</td>\n",
              "      <td>58.59</td>\n",
              "      <td>1992.0</td>\n",
              "      <td>0.0</td>\n",
              "      <td>1992</td>\n",
              "      <td>292941.18</td>\n",
              "      <td>0.0</td>\n",
              "      <td>292941.18</td>\n",
              "      <td>0.0</td>\n",
              "      <td>147.06</td>\n",
              "    </tr>\n",
              "  </tbody>\n",
              "</table>\n",
              "</div>"
            ],
            "text/plain": [
              "  State Month  staff_count  ...  total_cost  perc_outsourced_app  avg_cost_per_app\n",
              "0     A   Jan       145.56  ...   727777.78                  0.0            138.89\n",
              "1     A   Feb       143.47  ...   717352.94                  0.0            147.06\n",
              "2     A   Mar       185.69  ...   928437.50                  0.0            156.25\n",
              "3     A   Apr        67.56  ...   337794.12                  0.0            147.06\n",
              "4     A   May        58.59  ...   292941.18                  0.0            147.06\n",
              "\n",
              "[5 rows x 11 columns]"
            ]
          },
          "metadata": {
            "tags": []
          },
          "execution_count": 92
        }
      ]
    },
    {
      "cell_type": "markdown",
      "metadata": {
        "id": "DxplGbgtg-uY"
      },
      "source": [
        "# Question 4\n",
        "\n",
        "#### Creating Visualisations"
      ]
    },
    {
      "cell_type": "markdown",
      "metadata": {
        "id": "5Z1I794Qg-uY"
      },
      "source": [
        "Create the following visualisations using your preferred method (i.e. Python, PowerPoint, Power BI, etc.) and add it to your report. \n",
        "\n",
        "Use the solution of Q2 to create a stacked column chart that shows the percentage of applications processed by the staff and by the vendor for each month (%staff processed applications+ %vendor processed applications should add up to 100%). \n",
        "Create a graph to show how the cost per application increases with respect to any change in the parameters in your analysis.\n",
        "Hint: Use the cost per application that you calculate in Questions 2 and 3 (i.e., the best case, and the worst case). "
      ]
    },
    {
      "cell_type": "markdown",
      "metadata": {
        "id": "WIBZ3empg-uZ"
      },
      "source": [
        "**Note:** You can create the charts in Python or some other visualisation tools and make it a part of your final report directly."
      ]
    },
    {
      "cell_type": "code",
      "metadata": {
        "colab": {
          "base_uri": "https://localhost:8080/",
          "height": 532
        },
        "id": "beB2izgKhVaz",
        "outputId": "bc769727-c065-4ced-f9d0-88bb9e396873"
      },
      "source": [
        "# Creating a dataframe to use for visualization\r\n",
        "Output_viz = Output.groupby(\"Month\")[\"num_app_staff\",\"num_app_outsourced\",\t\"total_applications\"].sum()\r\n",
        "\r\n",
        "Output_viz['num_app_staff'] = Output_viz['num_app_staff']/Output_viz['total_applications']*100\r\n",
        "Output_viz['num_app_outsourced'] = Output_viz['num_app_outsourced']/Output_viz['total_applications']*100\r\n",
        "\r\n",
        "Output_viz = Output_viz.rename(columns={\"num_app_staff\": \"perc_app_staff\", \"num_app_outsourced\": \"perc_app_outsourced\"})\r\n",
        "Output_viz = Output_viz.drop(\"total_applications\",axis = 1)\r\n",
        "\r\n",
        "\r\n",
        "# Plotting percentage of applications processed by the staff and by the outsourced vendor using stacked column chart\r\n",
        "\r\n",
        "ax = Output_viz.plot(kind = 'bar', stacked = True,figsize = (15,7), ylabel = \"Percentage\", rot = 360, fontsize = 12,\r\n",
        "                title='Percentage of applications processed by the staff and by vendors')\r\n",
        "\r\n",
        "ax.legend(loc='best', bbox_to_anchor=(1.0, 0.5))"
      ],
      "execution_count": null,
      "outputs": [
        {
          "output_type": "stream",
          "text": [
            "/usr/local/lib/python3.6/dist-packages/ipykernel_launcher.py:2: FutureWarning: Indexing with multiple keys (implicitly converted to a tuple of keys) will be deprecated, use a list instead.\n",
            "  \n"
          ],
          "name": "stderr"
        },
        {
          "output_type": "execute_result",
          "data": {
            "text/plain": [
              "<matplotlib.legend.Legend at 0x7f020be562e8>"
            ]
          },
          "metadata": {
            "tags": []
          },
          "execution_count": 93
        },
        {
          "output_type": "display_data",
          "data": {
            "image/png": "[encoded data removed]",
            "text/plain": [
              "<Figure size 1080x504 with 1 Axes>"
            ]
          },
          "metadata": {
            "tags": [],
            "needs_background": "light"
          }
        }
      ]
    },
    {
      "cell_type": "code",
      "metadata": {
        "colab": {
          "base_uri": "https://localhost:8080/",
          "height": 464
        },
        "id": "8jo2nevAsKkp",
        "outputId": "249457f6-709d-4828-9931-9cbfa765ea3d"
      },
      "source": [
        "# Creating a dataframe to use for visualization\r\n",
        "Cost_per_app = {'Bestcase Scenario': [145.88],'Given Scenario': [158.55] ,'Worstcase Scenario': [173.0]}\r\n",
        "Cost_per_app_df = pd.DataFrame(Cost_per_app)\r\n",
        "\r\n",
        "# Plotting line chart to show how the cost per application increases with respect to any change in the parameters \r\n",
        "\r\n",
        "Cost_per_app_df.T.plot(kind = 'line',figsize = (15,7), ylabel = \"Average Cost per application\", fontsize = 12,  marker='o', legend = None,\r\n",
        "                title='Average Cost per application for different scenarios')"
      ],
      "execution_count": null,
      "outputs": [
        {
          "output_type": "execute_result",
          "data": {
            "text/plain": [
              "<matplotlib.axes._subplots.AxesSubplot at 0x7f020bdf8320>"
            ]
          },
          "metadata": {
            "tags": []
          },
          "execution_count": 94
        },
        {
          "output_type": "display_data",
          "data": {
            "image/png": "[encoded data removed]",
            "text/plain": [
              "<Figure size 1080x504 with 1 Axes>"
            ]
          },
          "metadata": {
            "tags": [],
            "needs_background": "light"
          }
        }
      ]
    },
    {
      "cell_type": "markdown",
      "metadata": {
        "id": "J-leI9ZWHond"
      },
      "source": [
        "\r\n",
        "\r\n",
        "*   Average cost per application is the lowest for the “Best Case Scenario” (145.88 dollars) whereas it is the highest for the “Worst Case Scenario” (173 dollars), an increase of 27.12 dollars\r\n",
        "*   Average cost per application in the “Given Case Scenario” is 158.55 dollars\r\n"
      ]
    },
    {
      "cell_type": "code",
      "metadata": {
        "colab": {
          "base_uri": "https://localhost:8080/",
          "height": 173
        },
        "id": "gc5mvkB35H0C",
        "outputId": "5020925c-5f81-4696-e78a-9e4f11c27257"
      },
      "source": [
        "# Creating a dataframes to use for visualization\r\n",
        "\r\n",
        "worst_case_output_viz = worst_case_output.groupby(\"State\")[\"avg_cost_per_app\"].sum()\r\n",
        "worst_case_output_viz = worst_case_output_viz.reset_index()\r\n",
        "worst_case_output_viz = worst_case_output_viz.rename(columns = {\"avg_cost_per_app\":\"worstcase_avg_cost_per_app\"})\r\n",
        "\r\n",
        "best_case_output_viz = best_case_output.groupby(\"State\")[[\"avg_cost_per_app\"]].sum()\r\n",
        "best_case_output_viz = best_case_output_viz.reset_index()\r\n",
        "best_case_output_viz = best_case_output_viz.rename(columns = {\"avg_cost_per_app\":\"bestcase_avg_cost_per_app\"})\r\n",
        "best_case_output_viz\r\n",
        "\r\n",
        "Output[\"givencase_avg_cost_per_app\"] = round(Output['total_cost']/Output['total_applications'],2)\r\n",
        "given_case_output_viz = Output.groupby(\"State\")[[\"givencase_avg_cost_per_app\"]].sum()\r\n",
        "given_case_output_viz = given_case_output_viz.reset_index()\r\n",
        "given_case_output_viz\r\n",
        "\r\n",
        "avg_cost_three_cases = best_case_output_viz.merge(given_case_output_viz, on='State',how = \"inner\" ).merge(worst_case_output_viz,on='State',how = \"inner\").set_index(\"State\")\r\n",
        "avg_cost_three_cases = avg_cost_three_cases.rename(columns = {\"bestcase_avg_cost_per_app\":\"Best-case scenario\", \"givencase_avg_cost_per_app\":\"Given scenario\",\"worstcase_avg_cost_per_app\":\"Worst-case scenario\" })\r\n",
        "avg_cost_three_cases"
      ],
      "execution_count": null,
      "outputs": [
        {
          "output_type": "execute_result",
          "data": {
            "text/html": [
              "<div>\n",
              "<style scoped>\n",
              "    .dataframe tbody tr th:only-of-type {\n",
              "        vertical-align: middle;\n",
              "    }\n",
              "\n",
              "    .dataframe tbody tr th {\n",
              "        vertical-align: top;\n",
              "    }\n",
              "\n",
              "    .dataframe thead th {\n",
              "        text-align: right;\n",
              "    }\n",
              "</style>\n",
              "<table border=\"1\" class=\"dataframe\">\n",
              "  <thead>\n",
              "    <tr style=\"text-align: right;\">\n",
              "      <th></th>\n",
              "      <th>Best-case scenario</th>\n",
              "      <th>Given scenario</th>\n",
              "      <th>Worst-case scenario</th>\n",
              "    </tr>\n",
              "    <tr>\n",
              "      <th>State</th>\n",
              "      <th></th>\n",
              "      <th></th>\n",
              "      <th></th>\n",
              "    </tr>\n",
              "  </thead>\n",
              "  <tbody>\n",
              "    <tr>\n",
              "      <th>A</th>\n",
              "      <td>1846.68</td>\n",
              "      <td>2017.20</td>\n",
              "      <td>2234.93</td>\n",
              "    </tr>\n",
              "    <tr>\n",
              "      <th>B</th>\n",
              "      <td>1685.07</td>\n",
              "      <td>1821.98</td>\n",
              "      <td>1971.40</td>\n",
              "    </tr>\n",
              "    <tr>\n",
              "      <th>C</th>\n",
              "      <td>1631.22</td>\n",
              "      <td>1772.54</td>\n",
              "      <td>1898.18</td>\n",
              "    </tr>\n",
              "  </tbody>\n",
              "</table>\n",
              "</div>"
            ],
            "text/plain": [
              "       Best-case scenario  Given scenario  Worst-case scenario\n",
              "State                                                         \n",
              "A                 1846.68         2017.20              2234.93\n",
              "B                 1685.07         1821.98              1971.40\n",
              "C                 1631.22         1772.54              1898.18"
            ]
          },
          "metadata": {
            "tags": []
          },
          "execution_count": 95
        }
      ]
    },
    {
      "cell_type": "code",
      "metadata": {
        "colab": {
          "base_uri": "https://localhost:8080/",
          "height": 464
        },
        "id": "P-0rgrogAHjH",
        "outputId": "8d643afd-5b21-4efa-a562-5cde853deaf9"
      },
      "source": [
        "# Plotting line chart to show how the cost per application increases with respect to any change in the parameters for each\r\n",
        "\r\n",
        "avg_cost_three_cases.T.plot(kind = 'line',figsize = (15,7), ylabel = \"Average cost per application\", fontsize = 12,marker='o',\r\n",
        "                title='Average cost per application for different scenarios')"
      ],
      "execution_count": null,
      "outputs": [
        {
          "output_type": "execute_result",
          "data": {
            "text/plain": [
              "<matplotlib.axes._subplots.AxesSubplot at 0x7f020ac4f7f0>"
            ]
          },
          "metadata": {
            "tags": []
          },
          "execution_count": 96
        },
        {
          "output_type": "display_data",
          "data": {
            "image/png": "[encoded data removed]",
            "text/plain": [
              "<Figure size 1080x504 with 1 Axes>"
            ]
          },
          "metadata": {
            "tags": [],
            "needs_background": "light"
          }
        }
      ]
    },
    {
      "cell_type": "markdown",
      "metadata": {
        "id": "RPYUQ9FlHhcX"
      },
      "source": [
        "State A has the highest overall average cost per application for all the three scenarios, followed by State B and State C."
      ]
    },
    {
      "cell_type": "markdown",
      "metadata": {
        "id": "Cv7GBH9fUlAG"
      },
      "source": [
        "# Fin!"
      ]
    }
  ]
}